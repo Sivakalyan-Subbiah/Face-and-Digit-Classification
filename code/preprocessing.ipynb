{
 "cells": [
  {
   "cell_type": "code",
   "execution_count": 45,
   "metadata": {},
   "outputs": [],
   "source": [
    "import pandas as pd\n",
    "import numpy as np\n",
    "import math\n",
    "import matplotlib.pyplot as plt\n",
    "from matplotlib import colors as c\n",
    "import pandas as pd"
   ]
  },
  {
   "cell_type": "markdown",
   "metadata": {},
   "source": [
    "# Face Data Preprocessing"
   ]
  },
  {
   "cell_type": "code",
   "execution_count": 46,
   "metadata": {},
   "outputs": [],
   "source": [
    "# Read validationing data labels\n",
    "def get_face_labels(label_file):\n",
    "    face_label = []\n",
    "    for l in label_file:\n",
    "        if(l == '1\\n'):\n",
    "            face_label.append(1)\n",
    "        elif(l=='0\\n'):\n",
    "            face_label.append(0)\n",
    "    return face_label\n"
   ]
  },
  {
   "cell_type": "code",
   "execution_count": 47,
   "metadata": {},
   "outputs": [],
   "source": [
    "# Read Training data\n",
    "\n",
    "def get_face_array(face_lines, face_label):\n",
    "    face_list = []\n",
    "\n",
    "    # Convert data from hashes and tabs to binary data\n",
    "    for l in face_lines:\n",
    "        temp = []\n",
    "        for c in l:\n",
    "            if(c=='#'):\n",
    "                temp.append(1)\n",
    "            elif c == '\\n':\n",
    "                continue\n",
    "            else:\n",
    "                temp.append(0)\n",
    "        face_list.append(temp)\n",
    "    # Since there are 451 labels, we divide it equally\n",
    "    return np.array(np.array_split(face_list, len(face_label))).tolist()"
   ]
  },
  {
   "cell_type": "code",
   "execution_count": 48,
   "metadata": {},
   "outputs": [],
   "source": [
    "def get_face_features(face_array):\n",
    "    face_features = []\n",
    "    for image in face_array:\n",
    "        temp = np.zeros((10,10))\n",
    "        for i in range(70):\n",
    "            for j in range(60):\n",
    "                if(image[i][j] == 1):\n",
    "                    temp[math.floor(i/7)][math.floor(j/6)]+=1\n",
    "        face_features.append(temp.flatten())\n",
    "    face_features = np.array(face_features)\n",
    "    return face_features\n"
   ]
  },
  {
   "cell_type": "markdown",
   "metadata": {},
   "source": [
    "### Training Data"
   ]
  },
  {
   "cell_type": "code",
   "execution_count": 49,
   "metadata": {},
   "outputs": [],
   "source": [
    "with open('./data/facedata/facedatatrainlabels') as f:\n",
    "    label_file = f.readlines()\n",
    "\n",
    "with open('./data/facedata/facedatatrain') as f:\n",
    "    face_lines = f.readlines()\n"
   ]
  },
  {
   "cell_type": "code",
   "execution_count": 50,
   "metadata": {},
   "outputs": [],
   "source": [
    "face_label = get_face_labels(label_file)\n",
    "face_array = get_face_array(face_lines, face_label)\n",
    "face_features = get_face_features(face_array)"
   ]
  },
  {
   "cell_type": "code",
   "execution_count": 51,
   "metadata": {},
   "outputs": [],
   "source": [
    "face_df = pd.DataFrame({'Image_data':face_array,'Label':face_label})\n",
    "for i in range(100):\n",
    "    face_df['G'+str(i)] = face_features[:,i]\n",
    "face_df.to_csv('./data/facedata/facetrainwithfeatures.csv', index=False)"
   ]
  },
  {
   "cell_type": "markdown",
   "metadata": {},
   "source": [
    "### Validation Data"
   ]
  },
  {
   "cell_type": "code",
   "execution_count": 52,
   "metadata": {},
   "outputs": [],
   "source": [
    "with open('./data/facedata/facedatavalidationlabels') as f:\n",
    "    label_file = f.readlines()\n",
    "\n",
    "with open('./data/facedata/facedatavalidation') as f:\n",
    "    face_lines = f.readlines()"
   ]
  },
  {
   "cell_type": "code",
   "execution_count": 53,
   "metadata": {},
   "outputs": [],
   "source": [
    "face_label = get_face_labels(label_file)\n",
    "face_array = get_face_array(face_lines, face_label)\n",
    "face_features = get_face_features(face_array)"
   ]
  },
  {
   "cell_type": "code",
   "execution_count": 54,
   "metadata": {},
   "outputs": [],
   "source": [
    "face_df = pd.DataFrame({'Image_data':face_array,'Label':face_label})\n",
    "for i in range(100):\n",
    "    face_df['G'+str(i)] = face_features[:,i]\n",
    "face_df.to_csv('./data/facedata/facevalidationwithfeatures.csv', index=False)"
   ]
  },
  {
   "cell_type": "markdown",
   "metadata": {},
   "source": [
    "### Test Data"
   ]
  },
  {
   "cell_type": "code",
   "execution_count": 55,
   "metadata": {},
   "outputs": [],
   "source": [
    "# Read training data labels\n",
    "\n",
    "with open('./data/facedata/facedatatestlabels') as f:\n",
    "    label_file = f.readlines()\n",
    "\n",
    "with open('./data/facedata/facedatatest') as f:\n",
    "    face_lines = f.readlines()"
   ]
  },
  {
   "cell_type": "code",
   "execution_count": 56,
   "metadata": {},
   "outputs": [],
   "source": [
    "face_label = get_face_labels(label_file)\n",
    "face_array = get_face_array(face_lines, face_label)\n",
    "face_features = get_face_features(face_array)"
   ]
  },
  {
   "cell_type": "code",
   "execution_count": 57,
   "metadata": {},
   "outputs": [],
   "source": [
    "face_df = pd.DataFrame({'Image_data':face_array,'Label':face_label})\n",
    "for i in range(100):\n",
    "    face_df['G'+str(i)] = face_features[:,i]\n",
    "face_df.to_csv('./data/facedata/facetestwithfeatures.csv', index=False)"
   ]
  },
  {
   "cell_type": "markdown",
   "metadata": {
    "id": "bGF1vH8XCJj7"
   },
   "source": [
    "# Digit Data Preprocessing"
   ]
  },
  {
   "cell_type": "code",
   "execution_count": 58,
   "metadata": {},
   "outputs": [],
   "source": [
    "def display_image(data):\n",
    "    cMap = c.ListedColormap( ['black', 'white'] )\n",
    "    plt.pcolormesh(data, cmap=cMap)\n",
    "    plt.axes().set_aspect('equal')  \n",
    "    plt.xticks([])  \n",
    "    plt.yticks([])  \n",
    "    plt.axes().invert_yaxis()\n",
    "    plt.show()"
   ]
  },
  {
   "cell_type": "code",
   "execution_count": 59,
   "metadata": {},
   "outputs": [],
   "source": [
    "def convert_text_to_array(text):\n",
    "    temp_data = []\n",
    "    for i in range(len(text)):\n",
    "        temp=[]\n",
    "        for j in range(len(text[0])):\n",
    "            if(text[i][j]==\" \"):\n",
    "                temp.append(0)\n",
    "            elif(text[i][j]==\"\\n\"):\n",
    "                continue\n",
    "            else:\n",
    "                temp.append(1)\n",
    "        temp_data.append(temp)\n",
    "    return temp_data"
   ]
  },
  {
   "cell_type": "code",
   "execution_count": 60,
   "metadata": {
    "id": "QVpTn7L_Ot7J"
   },
   "outputs": [],
   "source": [
    "def Subgrid(i, j, k, l, grid):\n",
    "    return [item[k:l] for item in grid[i:j]]"
   ]
  },
  {
   "cell_type": "code",
   "execution_count": 61,
   "metadata": {
    "id": "z7I-SVCSEwSW"
   },
   "outputs": [],
   "source": [
    "def generate_features(df,inner=4,outer=7):\n",
    "  grid = []\n",
    "  for i in range(outer**2):\n",
    "    grid.append([])\n",
    "\n",
    "  for row in df.itertuples():\n",
    "\n",
    "    for i in range(outer):\n",
    "      for j in range(outer):\n",
    "        temp = Subgrid( i* inner, (i+1)*inner, j*inner, (j+1)*inner, row[1])\n",
    "        # display_image( temp )\n",
    "        # grid[i*outer + j].append( inner**2 - sum(x.count(0) for x in temp) )\n",
    "        grid[i*outer + j].append( sum(x.count(1) for x in temp) )\n",
    "  \n",
    "  return grid"
   ]
  },
  {
   "cell_type": "markdown",
   "metadata": {},
   "source": [
    "### Train Data"
   ]
  },
  {
   "cell_type": "code",
   "execution_count": 62,
   "metadata": {},
   "outputs": [],
   "source": [
    "with open(\"./data/digitdata/trainingimages\") as f:\n",
    "    lines = f.readlines()"
   ]
  },
  {
   "cell_type": "code",
   "execution_count": 63,
   "metadata": {},
   "outputs": [],
   "source": [
    "train_data=[]\n",
    "for i in range( len(lines)//28 ):\n",
    "    train_data.append(convert_text_to_array(lines[i*28:i*28+28]))"
   ]
  },
  {
   "cell_type": "code",
   "execution_count": 64,
   "metadata": {},
   "outputs": [],
   "source": [
    "with open(\"./data/digitdata/traininglabels\") as f:\n",
    "    lables = f.readlines()\n",
    "train_labels = [ x[0] for x in lables]"
   ]
  },
  {
   "cell_type": "code",
   "execution_count": 65,
   "metadata": {},
   "outputs": [],
   "source": [
    "train_df = pd.DataFrame({'Image_data':train_data, 'Label':train_labels})\n",
    "train_df.to_csv(\"./data/digitdata/traindata.csv\", index=False)"
   ]
  },
  {
   "cell_type": "code",
   "execution_count": 66,
   "metadata": {
    "colab": {
     "base_uri": "https://localhost:8080/"
    },
    "id": "P0zDPYdXSMQu",
    "outputId": "157097cc-233b-4745-80c3-c47085c10310"
   },
   "outputs": [],
   "source": [
    "grid = generate_features(train_df)"
   ]
  },
  {
   "cell_type": "code",
   "execution_count": 67,
   "metadata": {
    "id": "2U4LU11UZDXu"
   },
   "outputs": [],
   "source": [
    "for i in range(len(grid)):\n",
    "    train_df['G'+str(i)] = grid[i]\n"
   ]
  },
  {
   "cell_type": "code",
   "execution_count": 68,
   "metadata": {
    "id": "FFbxMW49Zy73"
   },
   "outputs": [],
   "source": [
    "train_df.to_csv(\"./data/digitdata/fortyninetrainfeatures.csv\", index=False)"
   ]
  },
  {
   "cell_type": "markdown",
   "metadata": {},
   "source": [
    "### Validation Data"
   ]
  },
  {
   "cell_type": "code",
   "execution_count": 69,
   "metadata": {},
   "outputs": [],
   "source": [
    "with open(\"./data/digitdata/validationimages\") as f:\n",
    "    lines = f.readlines()"
   ]
  },
  {
   "cell_type": "code",
   "execution_count": 70,
   "metadata": {},
   "outputs": [],
   "source": [
    "validation_data=[]\n",
    "for i in range( len(lines)//28 ):\n",
    "    validation_data.append(convert_text_to_array(lines[i*28:i*28+28]))"
   ]
  },
  {
   "cell_type": "code",
   "execution_count": 71,
   "metadata": {},
   "outputs": [],
   "source": [
    "with open(\"./data/digitdata/validationlabels\") as f:\n",
    "    lables = f.readlines()\n",
    "validation_labels = [ x[0] for x in lables]"
   ]
  },
  {
   "cell_type": "code",
   "execution_count": 72,
   "metadata": {},
   "outputs": [],
   "source": [
    "validation_df = pd.DataFrame({'Image_data':validation_data, 'Label':validation_labels})\n",
    "validation_df.to_csv(\"./data/digitdata/validationdata.csv\", index=False)"
   ]
  },
  {
   "cell_type": "code",
   "execution_count": 73,
   "metadata": {
    "colab": {
     "base_uri": "https://localhost:8080/"
    },
    "id": "P0zDPYdXSMQu",
    "outputId": "157097cc-233b-4745-80c3-c47085c10310"
   },
   "outputs": [],
   "source": [
    "grid = generate_features(validation_df)"
   ]
  },
  {
   "cell_type": "code",
   "execution_count": 74,
   "metadata": {
    "id": "2U4LU11UZDXu"
   },
   "outputs": [],
   "source": [
    "for i in range(len(grid)):\n",
    "    validation_df['G'+str(i)] = grid[i]\n"
   ]
  },
  {
   "cell_type": "code",
   "execution_count": 75,
   "metadata": {
    "id": "FFbxMW49Zy73"
   },
   "outputs": [],
   "source": [
    "validation_df.to_csv(\"./data/digitdata/fortyninevalidationfeatures.csv\", index=False)"
   ]
  },
  {
   "cell_type": "markdown",
   "metadata": {},
   "source": [
    "### Test Data"
   ]
  },
  {
   "cell_type": "code",
   "execution_count": 76,
   "metadata": {},
   "outputs": [],
   "source": [
    "with open(\"./data/digitdata/testimages\") as f:\n",
    "    lines = f.readlines()"
   ]
  },
  {
   "cell_type": "code",
   "execution_count": 77,
   "metadata": {},
   "outputs": [],
   "source": [
    "test_data=[]\n",
    "for i in range( len(lines)//28 ):\n",
    "    test_data.append(convert_text_to_array(lines[i*28:i*28+28]))"
   ]
  },
  {
   "cell_type": "code",
   "execution_count": 78,
   "metadata": {},
   "outputs": [],
   "source": [
    "with open(\"./data/digitdata/testlabels\") as f:\n",
    "    lables = f.readlines()\n",
    "test_labels = [ x[0] for x in lables]"
   ]
  },
  {
   "cell_type": "code",
   "execution_count": 79,
   "metadata": {},
   "outputs": [],
   "source": [
    "test_df = pd.DataFrame({'Image_data':test_data, 'Label':test_labels})\n",
    "test_df.to_csv(\"./data/digitdata/testdata.csv\", index=False)"
   ]
  },
  {
   "cell_type": "code",
   "execution_count": 80,
   "metadata": {
    "colab": {
     "base_uri": "https://localhost:8080/"
    },
    "id": "P0zDPYdXSMQu",
    "outputId": "157097cc-233b-4745-80c3-c47085c10310"
   },
   "outputs": [],
   "source": [
    "grid = generate_features(test_df)"
   ]
  },
  {
   "cell_type": "code",
   "execution_count": 81,
   "metadata": {
    "id": "2U4LU11UZDXu"
   },
   "outputs": [],
   "source": [
    "for i in range(len(grid)):\n",
    "    test_df['G'+str(i)] = grid[i]\n"
   ]
  },
  {
   "cell_type": "code",
   "execution_count": 82,
   "metadata": {
    "id": "FFbxMW49Zy73"
   },
   "outputs": [],
   "source": [
    "test_df.to_csv(\"./data/digitdata/fortyninetestfeatures.csv\", index=False)"
   ]
  }
 ],
 "metadata": {
  "kernelspec": {
   "display_name": "Python 3.8.1 64-bit",
   "language": "python",
   "name": "python3"
  },
  "language_info": {
   "codemirror_mode": {
    "name": "ipython",
    "version": 3
   },
   "file_extension": ".py",
   "mimetype": "text/x-python",
   "name": "python",
   "nbconvert_exporter": "python",
   "pygments_lexer": "ipython3",
   "version": "3.8.1 (tags/v3.8.1:1b293b6, Dec 18 2019, 23:11:46) [MSC v.1916 64 bit (AMD64)]"
  },
  "orig_nbformat": 4,
  "vscode": {
   "interpreter": {
    "hash": "4028a5515a1d930fbba3ed84a88654d6ba307da7eda608d7a6db2b3bc0ee0a8f"
   }
  }
 },
 "nbformat": 4,
 "nbformat_minor": 2
}
